{
 "cells": [
  {
   "cell_type": "markdown",
   "metadata": {},
   "source": [
    "# Introdução à Ciência de Dados - UFPB\n",
    "Professor: Yuri Malheiros\n",
    "\n",
    "## Python - Random - Exercício"
   ]
  },
  {
   "cell_type": "markdown",
   "metadata": {},
   "source": [
    "Implemente a função `generate_password` que deve gerar uma senha aleatória.\n",
    "\n",
    "A função tem tres parâmetros:\n",
    "\n",
    "- `n_chars` especifica o tamanho da senha gerada\n",
    "- `use_numbers` especifica se números podem ser usados na senha. Por padrão, esse parâmetro tem valor True\n",
    "- `use_special_chars` especifica se caracteres especiais, por exemplo !#%&@?, pode ser usados na senha. Por padrão, esse parâmetro tem valor True\n",
    "\n",
    "Note que se `use_numbers` e `use_special_chars` tiverem valor False, a senha terá apenas letras maiúsculas ou minúsculas."
   ]
  },
  {
   "cell_type": "code",
   "execution_count": 8,
   "metadata": {},
   "outputs": [],
   "source": [
    "import random\n",
    "import string\n",
    "\n",
    "def generate_password(n_chars, use_numbers=True, use_special_chars=True):\n",
    "    senha = \"\"\n",
    "    alpha = ['a','b','c','d','e','f','g','h','i','j','k','l','m','o','p','r','t','u','v','w','x','y','z']\n",
    "    numbers = ['0','1','2','3','4','5','6','7','8','9']\n",
    "    charac = ['\"','!','@',\"#\",\"$\",\"%\",\"¨\",\"&\",\"*\",\"(\",\")\",\"_\",\"+\",\"´\",\"[\",\"{\",\"}\",\"]\",\"~\",\"^\",\"?\",\"/\",\";\",\":\",\",\",\".\",\">\",\"<\"]\n",
    "    for i in range(n_chars):\n",
    "        al = random.randrange(len(alpha))\n",
    "        if (random.randrange(2)):\n",
    "            new = random.choice(alpha).upper()\n",
    "        elif (random.randrange(2) and use_special_chars):\n",
    "            new = random.choice(charac)\n",
    "        elif (random.randrange(2) and use_numbers):\n",
    "            new = random.choice(numbers)\n",
    "        else:\n",
    "            new = random.choice(alpha)\n",
    "        senha += new\n",
    "    return senha"
   ]
  },
  {
   "cell_type": "code",
   "execution_count": 11,
   "metadata": {},
   "outputs": [
    {
     "name": "stdout",
     "output_type": "stream",
     "text": [
      "0R\"B¨1V*[4\n",
      "MMT;KU}*yL\n",
      "pjyzWWIvOV\n"
     ]
    }
   ],
   "source": [
    "print(generate_password(10))\n",
    "print(generate_password(10, use_numbers=False))\n",
    "print(generate_password(10, use_numbers=False, use_special_chars=False))"
   ]
  },
  {
   "cell_type": "code",
   "execution_count": null,
   "metadata": {},
   "outputs": [],
   "source": []
  }
 ],
 "metadata": {
  "kernelspec": {
   "display_name": "Python 3",
   "language": "python",
   "name": "python3"
  },
  "language_info": {
   "codemirror_mode": {
    "name": "ipython",
    "version": 3
   },
   "file_extension": ".py",
   "mimetype": "text/x-python",
   "name": "python",
   "nbconvert_exporter": "python",
   "pygments_lexer": "ipython3",
   "version": "3.8.1"
  }
 },
 "nbformat": 4,
 "nbformat_minor": 4
}
